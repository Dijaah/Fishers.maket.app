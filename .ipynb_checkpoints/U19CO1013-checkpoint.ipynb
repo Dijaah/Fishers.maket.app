{
 "cells": [
  {
   "cell_type": "code",
   "execution_count": 68,
   "id": "de22ea28-aed5-4c4b-8c6a-1e8ac458140a",
   "metadata": {},
   "outputs": [],
   "source": [
    "import numpy as np\n",
    "import pandas as pd\n",
    "from sklearn.model_selection import train_test_split\n",
    "from sklearn.linear_model import LinearRegression\n",
    "from sklearn.metrics import mean_absolute_error, mean_squared_error,r2_score\n",
    "from math import sqrt"
   ]
  },
  {
   "cell_type": "code",
   "execution_count": 70,
   "id": "1676ede9-cffa-4b4d-b2db-55f87826435f",
   "metadata": {},
   "outputs": [],
   "source": [
    "df = pd.read_csv(\"Fishers maket.csv\")"
   ]
  },
  {
   "cell_type": "code",
   "execution_count": 72,
   "id": "55965907-2c4b-4a52-b849-2066247c9341",
   "metadata": {},
   "outputs": [
    {
     "data": {
      "text/html": [
       "<div>\n",
       "<style scoped>\n",
       "    .dataframe tbody tr th:only-of-type {\n",
       "        vertical-align: middle;\n",
       "    }\n",
       "\n",
       "    .dataframe tbody tr th {\n",
       "        vertical-align: top;\n",
       "    }\n",
       "\n",
       "    .dataframe thead th {\n",
       "        text-align: right;\n",
       "    }\n",
       "</style>\n",
       "<table border=\"1\" class=\"dataframe\">\n",
       "  <thead>\n",
       "    <tr style=\"text-align: right;\">\n",
       "      <th></th>\n",
       "      <th>Species</th>\n",
       "      <th>Weight</th>\n",
       "      <th>Length1</th>\n",
       "      <th>Length2</th>\n",
       "      <th>Length3</th>\n",
       "      <th>Height</th>\n",
       "      <th>Width</th>\n",
       "    </tr>\n",
       "  </thead>\n",
       "  <tbody>\n",
       "    <tr>\n",
       "      <th>0</th>\n",
       "      <td>Bream</td>\n",
       "      <td>242.0</td>\n",
       "      <td>23.2</td>\n",
       "      <td>25.4</td>\n",
       "      <td>30.0</td>\n",
       "      <td>11.5200</td>\n",
       "      <td>4.0200</td>\n",
       "    </tr>\n",
       "    <tr>\n",
       "      <th>1</th>\n",
       "      <td>Bream</td>\n",
       "      <td>290.0</td>\n",
       "      <td>24.0</td>\n",
       "      <td>26.3</td>\n",
       "      <td>31.2</td>\n",
       "      <td>12.4800</td>\n",
       "      <td>4.3056</td>\n",
       "    </tr>\n",
       "    <tr>\n",
       "      <th>2</th>\n",
       "      <td>Bream</td>\n",
       "      <td>340.0</td>\n",
       "      <td>23.9</td>\n",
       "      <td>26.5</td>\n",
       "      <td>31.1</td>\n",
       "      <td>12.3778</td>\n",
       "      <td>4.6961</td>\n",
       "    </tr>\n",
       "    <tr>\n",
       "      <th>3</th>\n",
       "      <td>Bream</td>\n",
       "      <td>363.0</td>\n",
       "      <td>26.3</td>\n",
       "      <td>29.0</td>\n",
       "      <td>33.5</td>\n",
       "      <td>12.7300</td>\n",
       "      <td>4.4555</td>\n",
       "    </tr>\n",
       "    <tr>\n",
       "      <th>4</th>\n",
       "      <td>Bream</td>\n",
       "      <td>430.0</td>\n",
       "      <td>26.5</td>\n",
       "      <td>29.0</td>\n",
       "      <td>34.0</td>\n",
       "      <td>12.4440</td>\n",
       "      <td>5.1340</td>\n",
       "    </tr>\n",
       "  </tbody>\n",
       "</table>\n",
       "</div>"
      ],
      "text/plain": [
       "  Species  Weight  Length1  Length2  Length3   Height   Width\n",
       "0   Bream   242.0     23.2     25.4     30.0  11.5200  4.0200\n",
       "1   Bream   290.0     24.0     26.3     31.2  12.4800  4.3056\n",
       "2   Bream   340.0     23.9     26.5     31.1  12.3778  4.6961\n",
       "3   Bream   363.0     26.3     29.0     33.5  12.7300  4.4555\n",
       "4   Bream   430.0     26.5     29.0     34.0  12.4440  5.1340"
      ]
     },
     "execution_count": 72,
     "metadata": {},
     "output_type": "execute_result"
    }
   ],
   "source": [
    "df.head()"
   ]
  },
  {
   "cell_type": "code",
   "execution_count": 74,
   "id": "cb746bbd-7eaf-485e-a218-8f0325cd0e5e",
   "metadata": {},
   "outputs": [],
   "source": [
    "cat_vars = ['Species']\n",
    "for i in cat_vars:\n",
    "    df[i+\"_cat\"] = df[i].astype('category').cat.codes\n",
    "    df.head(10)"
   ]
  },
  {
   "cell_type": "code",
   "execution_count": 82,
   "id": "f0a343aa-b88b-4932-8a60-a1bb8a7d91fb",
   "metadata": {},
   "outputs": [],
   "source": [
    "X= df[['Species_cat','Length1','Length2','Length3','Height','Width']]\n",
    "y= df['Weight']"
   ]
  },
  {
   "cell_type": "code",
   "execution_count": 84,
   "id": "07cbee42-f411-47de-8239-426dc31b47db",
   "metadata": {},
   "outputs": [],
   "source": [
    "fish= [0.1,0.2,0.3,0.4]"
   ]
  },
  {
   "cell_type": "code",
   "execution_count": 96,
   "id": "5957f72e-f024-403c-9cad-be40beb12105",
   "metadata": {},
   "outputs": [
    {
     "name": "stdout",
     "output_type": "stream",
     "text": [
      "Printing Result Of The Test Data: (0.1)\n",
      "Mean Absolute Error (MAE): 89.5316\n",
      "Mean Squared Error (MSE): 11847.7068\n",
      "Root Mean Squared Error (RMSE): 108.8472\n",
      "R-squared (R²): 0.9251\n",
      "\n",
      "\n",
      "Printing Result Of The Test Data: (0.2)\n",
      "Mean Absolute Error (MAE): 97.2979\n",
      "Mean Squared Error (MSE): 13727.8166\n",
      "Root Mean Squared Error (RMSE): 117.1658\n",
      "R-squared (R²): 0.9035\n",
      "\n",
      "\n",
      "Printing Result Of The Test Data: (0.3)\n",
      "Mean Absolute Error (MAE): 90.3569\n",
      "Mean Squared Error (MSE): 14037.3263\n",
      "Root Mean Squared Error (RMSE): 118.4792\n",
      "R-squared (R²): 0.8854\n",
      "\n",
      "\n",
      "Printing Result Of The Test Data: (0.4)\n",
      "Mean Absolute Error (MAE): 88.8531\n",
      "Mean Squared Error (MSE): 14065.1883\n",
      "Root Mean Squared Error (RMSE): 118.5967\n",
      "R-squared (R²): 0.8852\n",
      "\n",
      "\n"
     ]
    }
   ],
   "source": [
    "for shark in fish:\n",
    "     # Spliting the data into a training and testing set\n",
    "    X_train, X_test, y_train, y_test = train_test_split(X, y,test_size = shark, random_state=42)\n",
    "\n",
    "    # Creating and training the Linear Regression model\n",
    "    model = LinearRegression()  # Create a Linear Regression model object\n",
    "    model.fit(X_train, y_train)  # Train the model using the training data\n",
    "\n",
    "    # Make predictions on the test set\n",
    "    y_pred = model.predict(X_test)\n",
    "\n",
    "    # Calculate performance metrics\n",
    "    mae = mean_absolute_error(y_test, y_pred)  # Calculate Mean Absolute Error\n",
    "    mse = mean_squared_error(y_test, y_pred)    # Calculate Mean Squared Error\n",
    "    rmse = sqrt(mse)                           # Calculate Root Mean Squared Error\n",
    "    r_squared = r2_score(y_test, y_pred)       # Calculate R-squared (Coefficient of Determination)\n",
    "\n",
    "    # Display the results\n",
    "    print(f\"Printing Result Of The Test Data: ({shark})\")\n",
    "    print(f\"Mean Absolute Error (MAE): {mae:.4f}\")\n",
    "    print(f\"Mean Squared Error (MSE): {mse:.4f}\")\n",
    "    print(f\"Root Mean Squared Error (RMSE): {rmse:.4f}\")\n",
    "    print(f\"R-squared (R²): {r_squared:.4f}\")\n",
    "    print('\\n')"
   ]
  },
  {
   "cell_type": "code",
   "execution_count": null,
   "id": "f425367b-ef51-4b3e-9abc-5d568d011233",
   "metadata": {},
   "outputs": [],
   "source": []
  }
 ],
 "metadata": {
  "kernelspec": {
   "display_name": "Python [conda env:base] *",
   "language": "python",
   "name": "conda-base-py"
  },
  "language_info": {
   "codemirror_mode": {
    "name": "ipython",
    "version": 3
   },
   "file_extension": ".py",
   "mimetype": "text/x-python",
   "name": "python",
   "nbconvert_exporter": "python",
   "pygments_lexer": "ipython3",
   "version": "3.12.7"
  }
 },
 "nbformat": 4,
 "nbformat_minor": 5
}
